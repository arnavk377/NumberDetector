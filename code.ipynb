{
 "cells": [
  {
   "cell_type": "markdown",
   "metadata": {},
   "source": [
    "## Number Detector"
   ]
  },
  {
   "cell_type": "markdown",
   "metadata": {},
   "source": [
    "### Problem Statement\n",
    "\n",
    "Given a set of images of football players, identify their jersey numbers from the images. The images are taken from various angles. The goal is to develop a model with a high accuracy that can detect a jersey number from an image taken from any angle.\n",
    "\n",
    "### Dataset\n",
    "The main dataset I used is from here: https://www.kaggle.com/datasets/frlemarchand/nfl-player-numbers/data\n",
    "\n",
    "The full dataset contains about 43,500 64x64 images of NFL players with jersey numbers. The dataset appears to have some images where it is difficult, even for a human, to identify a player number. The images appear to come from All-22 film, with images from both the sideline and endzone view. \n",
    "\n",
    "I intend to use a randomly selected subset of images, as it is not feasible to upload all of these images to GitHub, and training a model on all of these images would be computationally expensive."
   ]
  },
  {
   "cell_type": "markdown",
   "metadata": {},
   "source": [
    "### To Do List\n",
    "- Reduce size of dataset\n",
    "- Read csv file\n",
    "- Obtain labels from csv file, based on the images being used\n",
    "- Preprocess images\n",
    "- Create a model\n",
    "- Train the model\n",
    "- Test the model\n",
    "- Evaluate the model"
   ]
  },
  {
   "cell_type": "markdown",
   "metadata": {},
   "source": [
    "### Reducing Full Dataset"
   ]
  },
  {
   "cell_type": "code",
   "execution_count": 2,
   "metadata": {},
   "outputs": [],
   "source": [
    "import os\n",
    "import random"
   ]
  },
  {
   "cell_type": "code",
   "execution_count": 8,
   "metadata": {},
   "outputs": [],
   "source": [
    "data_dir = os.path.join('archive', 'train_player_numbers')\n",
    "image_count = 43540\n",
    "\n",
    "def select_images(data_dir, sample_size = 1000, extensions = ('.jpg', '.jpeg', '.png')):\n",
    "    image_files = [file for file in os.listdir(data_dir) if file.lower().endswith(extensions)]\n",
    "    img_sample = random.sample(image_files, sample_size)\n",
    "    \n",
    "    for image in image_files:\n",
    "        if image not in img_sample:\n",
    "            os.remove(os.path.join(data_dir, image))"
   ]
  },
  {
   "cell_type": "code",
   "execution_count": 9,
   "metadata": {},
   "outputs": [],
   "source": [
    "select_images(data_dir)\n",
    "    "
   ]
  },
  {
   "cell_type": "code",
   "execution_count": 11,
   "metadata": {},
   "outputs": [
    {
     "data": {
      "text/plain": [
       "1000"
      ]
     },
     "execution_count": 11,
     "metadata": {},
     "output_type": "execute_result"
    }
   ],
   "source": [
    "image_files = [file for file in os.listdir(data_dir)]\n",
    "len(image_files)"
   ]
  }
 ],
 "metadata": {
  "kernelspec": {
   "display_name": "env_CS50Proj",
   "language": "python",
   "name": "python3"
  },
  "language_info": {
   "codemirror_mode": {
    "name": "ipython",
    "version": 3
   },
   "file_extension": ".py",
   "mimetype": "text/x-python",
   "name": "python",
   "nbconvert_exporter": "python",
   "pygments_lexer": "ipython3",
   "version": "3.12.0"
  }
 },
 "nbformat": 4,
 "nbformat_minor": 2
}
