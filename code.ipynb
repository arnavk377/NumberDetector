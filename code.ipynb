{
 "cells": [
  {
   "cell_type": "markdown",
   "metadata": {},
   "source": [
    "## Number Detector"
   ]
  },
  {
   "cell_type": "markdown",
   "metadata": {},
   "source": [
    "### Problem Statement\n",
    "\n",
    "Given a set of images of football players, identify their jersey numbers from the images. The images are taken from various angles. The goal is to develop a model with a high accuracy that can detect a jersey number from an image taken from any angle.\n",
    "\n",
    "### Dataset\n",
    "The main dataset I used is from here: https://www.kaggle.com/datasets/frlemarchand/nfl-player-numbers/data\n",
    "\n",
    "The full dataset contains about 43,500 64x64 images of NFL players with jersey numbers. The dataset appears to have some images where it is difficult, even for a human, to identify a player number. The images appear to come from All-22 film, with images from both the sideline and endzone view. \n",
    "\n",
    "I intend to use a randomly selected subset of images, as it is not feasible to upload all of these images to GitHub, and training a model on all of these images would be computationally expensive."
   ]
  },
  {
   "cell_type": "markdown",
   "metadata": {},
   "source": [
    "### To Do List\n",
    "- Reduce size of dataset\n",
    "- Read csv file\n",
    "- Obtain labels from csv file, based on the images being used\n",
    "- Preprocess images\n",
    "- Create a model\n",
    "- Train the model\n",
    "- Test the model\n",
    "- Evaluate the model"
   ]
  },
  {
   "cell_type": "code",
   "execution_count": null,
   "metadata": {},
   "outputs": [],
   "source": [
    "# ALL IMPORTS\n",
    "import os\n",
    "import random\n",
    "import cv2\n",
    "import numpy as np\n",
    "import pandas as pd\n",
    "import matplotlib.pyplot as plt\n",
    "import tensorflow as tf"
   ]
  },
  {
   "cell_type": "markdown",
   "metadata": {},
   "source": [
    "### Reducing Full Dataset\n",
    "\n",
    "The following code blocks reduced the size of the dataset from 43540 images to 1000 images."
   ]
  },
  {
   "cell_type": "code",
   "execution_count": 4,
   "metadata": {},
   "outputs": [],
   "source": [
    "import os\n",
    "import random"
   ]
  },
  {
   "cell_type": "code",
   "execution_count": 13,
   "metadata": {},
   "outputs": [],
   "source": [
    "data_dir = os.path.join('archive', 'train_player_numbers')\n",
    "image_count = 43540\n",
    "\n",
    "def select_images(data_dir, sample_size = 1000, extensions = ('.jpg', '.jpeg', '.png')):\n",
    "    image_files = [file for file in os.listdir(data_dir) if file.lower().endswith(extensions)]\n",
    "    img_sample = random.sample(image_files, sample_size)\n",
    "    \n",
    "    for image in image_files:\n",
    "        if image not in img_sample:\n",
    "            os.remove(os.path.join(data_dir, image))"
   ]
  },
  {
   "cell_type": "code",
   "execution_count": null,
   "metadata": {},
   "outputs": [],
   "source": [
    "# select_images(data_dir)    "
   ]
  },
  {
   "cell_type": "code",
   "execution_count": 14,
   "metadata": {},
   "outputs": [
    {
     "data": {
      "text/plain": [
       "1000"
      ]
     },
     "execution_count": 14,
     "metadata": {},
     "output_type": "execute_result"
    }
   ],
   "source": [
    "# checking the size of image files\n",
    "image_files = [file for file in os.listdir(data_dir)]\n",
    "len(image_files)"
   ]
  },
  {
   "cell_type": "markdown",
   "metadata": {},
   "source": [
    "### Removing files which can't be accessed\n",
    "\n",
    "The following code blocks remove any files which can't be accessed, to prevent errors from coming up later on."
   ]
  },
  {
   "cell_type": "code",
   "execution_count": null,
   "metadata": {},
   "outputs": [
    {
     "name": "stderr",
     "output_type": "stream",
     "text": [
      "/var/folders/jl/1cv755v97wl_7c1pzbb22zgw0000gp/T/ipykernel_14367/4232469594.py:2: DeprecationWarning: 'imghdr' is deprecated and slated for removal in Python 3.13\n",
      "  import imghdr\n"
     ]
    }
   ],
   "source": [
    "import cv2"
   ]
  },
  {
   "cell_type": "code",
   "execution_count": 7,
   "metadata": {},
   "outputs": [],
   "source": [
    "for image in os.listdir(data_dir):\n",
    "    try:\n",
    "        img = cv2.imread(os.path.join(data_dir, image))\n",
    "    except:\n",
    "        os.remove(os.path.join(data_dir, image))"
   ]
  },
  {
   "cell_type": "markdown",
   "metadata": {},
   "source": [
    "### Reading CSV file\n",
    "\n",
    "The csv file given with the dataset contains the labels for the images. The following code blocks read the csv file and obtain the labels for the images being used."
   ]
  },
  {
   "cell_type": "code",
   "execution_count": 9,
   "metadata": {},
   "outputs": [],
   "source": [
    "import pandas as pd\n",
    "import numpy as np"
   ]
  },
  {
   "cell_type": "code",
   "execution_count": 19,
   "metadata": {},
   "outputs": [
    {
     "data": {
      "text/html": [
       "<div>\n",
       "<style scoped>\n",
       "    .dataframe tbody tr th:only-of-type {\n",
       "        vertical-align: middle;\n",
       "    }\n",
       "\n",
       "    .dataframe tbody tr th {\n",
       "        vertical-align: top;\n",
       "    }\n",
       "\n",
       "    .dataframe thead th {\n",
       "        text-align: right;\n",
       "    }\n",
       "</style>\n",
       "<table border=\"1\" class=\"dataframe\">\n",
       "  <thead>\n",
       "    <tr style=\"text-align: right;\">\n",
       "      <th></th>\n",
       "      <th>filename</th>\n",
       "      <th>video_frame</th>\n",
       "      <th>player</th>\n",
       "      <th>label</th>\n",
       "      <th>left</th>\n",
       "      <th>top</th>\n",
       "      <th>right</th>\n",
       "      <th>bottom</th>\n",
       "      <th>filepath</th>\n",
       "    </tr>\n",
       "  </thead>\n",
       "  <tbody>\n",
       "    <tr>\n",
       "      <th>0</th>\n",
       "      <td>58000_001306_Sideline_240_V84.png</td>\n",
       "      <td>58000_001306_Sideline_240</td>\n",
       "      <td>V84</td>\n",
       "      <td>84</td>\n",
       "      <td>826</td>\n",
       "      <td>137</td>\n",
       "      <td>890</td>\n",
       "      <td>201</td>\n",
       "      <td>train_player_numbers/58000_001306_Sideline_240...</td>\n",
       "    </tr>\n",
       "    <tr>\n",
       "      <th>1</th>\n",
       "      <td>58095_004022_Endzone_140_H24.png</td>\n",
       "      <td>58095_004022_Endzone_140</td>\n",
       "      <td>H24</td>\n",
       "      <td>24</td>\n",
       "      <td>592</td>\n",
       "      <td>323</td>\n",
       "      <td>656</td>\n",
       "      <td>387</td>\n",
       "      <td>train_player_numbers/58095_004022_Endzone_140_...</td>\n",
       "    </tr>\n",
       "    <tr>\n",
       "      <th>2</th>\n",
       "      <td>58094_002819_Sideline_200_V83.png</td>\n",
       "      <td>58094_002819_Sideline_200</td>\n",
       "      <td>V83</td>\n",
       "      <td>83</td>\n",
       "      <td>749</td>\n",
       "      <td>309</td>\n",
       "      <td>813</td>\n",
       "      <td>373</td>\n",
       "      <td>train_player_numbers/58094_002819_Sideline_200...</td>\n",
       "    </tr>\n",
       "    <tr>\n",
       "      <th>3</th>\n",
       "      <td>57594_000923_Sideline_240_V23.png</td>\n",
       "      <td>57594_000923_Sideline_240</td>\n",
       "      <td>V23</td>\n",
       "      <td>23</td>\n",
       "      <td>585</td>\n",
       "      <td>76</td>\n",
       "      <td>649</td>\n",
       "      <td>140</td>\n",
       "      <td>train_player_numbers/57594_000923_Sideline_240...</td>\n",
       "    </tr>\n",
       "    <tr>\n",
       "      <th>4</th>\n",
       "      <td>57680_003470_Endzone_260_V72.png</td>\n",
       "      <td>57680_003470_Endzone_260</td>\n",
       "      <td>V72</td>\n",
       "      <td>72</td>\n",
       "      <td>530</td>\n",
       "      <td>189</td>\n",
       "      <td>594</td>\n",
       "      <td>253</td>\n",
       "      <td>train_player_numbers/57680_003470_Endzone_260_...</td>\n",
       "    </tr>\n",
       "  </tbody>\n",
       "</table>\n",
       "</div>"
      ],
      "text/plain": [
       "                            filename                video_frame player  label  \\\n",
       "0  58000_001306_Sideline_240_V84.png  58000_001306_Sideline_240    V84     84   \n",
       "1   58095_004022_Endzone_140_H24.png   58095_004022_Endzone_140    H24     24   \n",
       "2  58094_002819_Sideline_200_V83.png  58094_002819_Sideline_200    V83     83   \n",
       "3  57594_000923_Sideline_240_V23.png  57594_000923_Sideline_240    V23     23   \n",
       "4   57680_003470_Endzone_260_V72.png   57680_003470_Endzone_260    V72     72   \n",
       "\n",
       "   left  top  right  bottom                                           filepath  \n",
       "0   826  137    890     201  train_player_numbers/58000_001306_Sideline_240...  \n",
       "1   592  323    656     387  train_player_numbers/58095_004022_Endzone_140_...  \n",
       "2   749  309    813     373  train_player_numbers/58094_002819_Sideline_200...  \n",
       "3   585   76    649     140  train_player_numbers/57594_000923_Sideline_240...  \n",
       "4   530  189    594     253  train_player_numbers/57680_003470_Endzone_260_...  "
      ]
     },
     "execution_count": 19,
     "metadata": {},
     "output_type": "execute_result"
    }
   ],
   "source": [
    "csv_df = pd.read_csv('archive/train_player_numbers.csv')\n",
    "csv_df.head()"
   ]
  },
  {
   "cell_type": "code",
   "execution_count": 20,
   "metadata": {},
   "outputs": [],
   "source": [
    "# makes sure that labels are only for the images that we have\n",
    "csv_df = csv_df[csv_df['filename'].isin(image_files)]"
   ]
  },
  {
   "cell_type": "code",
   "execution_count": null,
   "metadata": {},
   "outputs": [],
   "source": []
  }
 ],
 "metadata": {
  "kernelspec": {
   "display_name": "env_cs50proj",
   "language": "python",
   "name": "python3"
  },
  "language_info": {
   "codemirror_mode": {
    "name": "ipython",
    "version": 3
   },
   "file_extension": ".py",
   "mimetype": "text/x-python",
   "name": "python",
   "nbconvert_exporter": "python",
   "pygments_lexer": "ipython3",
   "version": "3.12.0"
  }
 },
 "nbformat": 4,
 "nbformat_minor": 2
}
